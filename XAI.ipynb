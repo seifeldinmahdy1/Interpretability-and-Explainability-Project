{
  "nbformat": 4,
  "nbformat_minor": 0,
  "metadata": {
    "colab": {
      "provenance": [],
      "include_colab_link": true
    },
    "kernelspec": {
      "name": "python3",
      "display_name": "Python 3"
    },
    "language_info": {
      "name": "python"
    }
  },
  "cells": [
    {
      "cell_type": "markdown",
      "metadata": {
        "id": "view-in-github",
        "colab_type": "text"
      },
      "source": [
        "<a href=\"https://colab.research.google.com/github/seifeldinmahdy1/Interpretability-and-Explainability-Project/blob/main/XAI.ipynb\" target=\"_parent\"><img src=\"https://colab.research.google.com/assets/colab-badge.svg\" alt=\"Open In Colab\"/></a>"
      ]
    },
    {
      "cell_type": "code",
      "execution_count": null,
      "metadata": {
        "id": "AH09EBIHJrQ5",
        "colab": {
          "base_uri": "https://localhost:8080/"
        },
        "outputId": "ec894da2-ba83-42eb-b7ce-ddfd0b3e06bf"
      },
      "outputs": [
        {
          "output_type": "stream",
          "name": "stdout",
          "text": [
            "hello world\n"
          ]
        }
      ],
      "source": []
    },
    {
      "cell_type": "code",
      "source": [
        "print('abdalla tamer')"
      ],
      "metadata": {
        "id": "M4AMCu3VM1Zz",
        "outputId": "74d02464-c1f8-4f2b-ace2-4fdb1bcaa233",
        "colab": {
          "base_uri": "https://localhost:8080/"
        }
      },
      "execution_count": 1,
      "outputs": [
        {
          "output_type": "stream",
          "name": "stdout",
          "text": [
            "abdalla tamer\n"
          ]
        }
      ]
    },
    {
      "cell_type": "code",
      "source": [],
      "metadata": {
        "id": "71JhbLlBM3-e"
      },
      "execution_count": null,
      "outputs": []
    }
  ]
}